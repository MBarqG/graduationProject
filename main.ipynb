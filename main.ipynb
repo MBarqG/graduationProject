{
 "cells": [
  {
   "cell_type": "code",
   "execution_count": 5,
   "id": "2cf4c06d",
   "metadata": {},
   "outputs": [],
   "source": [
    "import streamlit as st\n",
    "import pandas as pd\n",
    "from sklearn.preprocessing import  LabelEncoder\n",
    "import xgboost as xgb\n",
    "import numpy as np\n",
    "st.header(\"illnesses  Prediction App\")\n",
    "st.text_input(\"Enter your Name: \", key=\"name\")\n",
    "data = pd.read_csv(\"data.csv\",index_col=0)\n"
   ]
  },
  {
   "cell_type": "code",
   "execution_count": 9,
   "id": "b28320e8",
   "metadata": {},
   "outputs": [
    {
     "data": {
      "text/html": [
       "<style>#sk-container-id-1 {color: black;background-color: white;}#sk-container-id-1 pre{padding: 0;}#sk-container-id-1 div.sk-toggleable {background-color: white;}#sk-container-id-1 label.sk-toggleable__label {cursor: pointer;display: block;width: 100%;margin-bottom: 0;padding: 0.3em;box-sizing: border-box;text-align: center;}#sk-container-id-1 label.sk-toggleable__label-arrow:before {content: \"▸\";float: left;margin-right: 0.25em;color: #696969;}#sk-container-id-1 label.sk-toggleable__label-arrow:hover:before {color: black;}#sk-container-id-1 div.sk-estimator:hover label.sk-toggleable__label-arrow:before {color: black;}#sk-container-id-1 div.sk-toggleable__content {max-height: 0;max-width: 0;overflow: hidden;text-align: left;background-color: #f0f8ff;}#sk-container-id-1 div.sk-toggleable__content pre {margin: 0.2em;color: black;border-radius: 0.25em;background-color: #f0f8ff;}#sk-container-id-1 input.sk-toggleable__control:checked~div.sk-toggleable__content {max-height: 200px;max-width: 100%;overflow: auto;}#sk-container-id-1 input.sk-toggleable__control:checked~label.sk-toggleable__label-arrow:before {content: \"▾\";}#sk-container-id-1 div.sk-estimator input.sk-toggleable__control:checked~label.sk-toggleable__label {background-color: #d4ebff;}#sk-container-id-1 div.sk-label input.sk-toggleable__control:checked~label.sk-toggleable__label {background-color: #d4ebff;}#sk-container-id-1 input.sk-hidden--visually {border: 0;clip: rect(1px 1px 1px 1px);clip: rect(1px, 1px, 1px, 1px);height: 1px;margin: -1px;overflow: hidden;padding: 0;position: absolute;width: 1px;}#sk-container-id-1 div.sk-estimator {font-family: monospace;background-color: #f0f8ff;border: 1px dotted black;border-radius: 0.25em;box-sizing: border-box;margin-bottom: 0.5em;}#sk-container-id-1 div.sk-estimator:hover {background-color: #d4ebff;}#sk-container-id-1 div.sk-parallel-item::after {content: \"\";width: 100%;border-bottom: 1px solid gray;flex-grow: 1;}#sk-container-id-1 div.sk-label:hover label.sk-toggleable__label {background-color: #d4ebff;}#sk-container-id-1 div.sk-serial::before {content: \"\";position: absolute;border-left: 1px solid gray;box-sizing: border-box;top: 0;bottom: 0;left: 50%;z-index: 0;}#sk-container-id-1 div.sk-serial {display: flex;flex-direction: column;align-items: center;background-color: white;padding-right: 0.2em;padding-left: 0.2em;position: relative;}#sk-container-id-1 div.sk-item {position: relative;z-index: 1;}#sk-container-id-1 div.sk-parallel {display: flex;align-items: stretch;justify-content: center;background-color: white;position: relative;}#sk-container-id-1 div.sk-item::before, #sk-container-id-1 div.sk-parallel-item::before {content: \"\";position: absolute;border-left: 1px solid gray;box-sizing: border-box;top: 0;bottom: 0;left: 50%;z-index: -1;}#sk-container-id-1 div.sk-parallel-item {display: flex;flex-direction: column;z-index: 1;position: relative;background-color: white;}#sk-container-id-1 div.sk-parallel-item:first-child::after {align-self: flex-end;width: 50%;}#sk-container-id-1 div.sk-parallel-item:last-child::after {align-self: flex-start;width: 50%;}#sk-container-id-1 div.sk-parallel-item:only-child::after {width: 0;}#sk-container-id-1 div.sk-dashed-wrapped {border: 1px dashed gray;margin: 0 0.4em 0.5em 0.4em;box-sizing: border-box;padding-bottom: 0.4em;background-color: white;}#sk-container-id-1 div.sk-label label {font-family: monospace;font-weight: bold;display: inline-block;line-height: 1.2em;}#sk-container-id-1 div.sk-label-container {text-align: center;}#sk-container-id-1 div.sk-container {/* jupyter's `normalize.less` sets `[hidden] { display: none; }` but bootstrap.min.css set `[hidden] { display: none !important; }` so we also need the `!important` here to be able to override the default hidden behavior on the sphinx rendered scikit-learn.org. See: https://github.com/scikit-learn/scikit-learn/issues/21755 */display: inline-block !important;position: relative;}#sk-container-id-1 div.sk-text-repr-fallback {display: none;}</style><div id=\"sk-container-id-1\" class=\"sk-top-container\"><div class=\"sk-text-repr-fallback\"><pre>LabelEncoder()</pre><b>In a Jupyter environment, please rerun this cell to show the HTML representation or trust the notebook. <br />On GitHub, the HTML representation is unable to render, please try loading this page with nbviewer.org.</b></div><div class=\"sk-container\" hidden><div class=\"sk-item\"><div class=\"sk-estimator sk-toggleable\"><input class=\"sk-toggleable__control sk-hidden--visually\" id=\"sk-estimator-id-1\" type=\"checkbox\" checked><label for=\"sk-estimator-id-1\" class=\"sk-toggleable__label sk-toggleable__label-arrow\">LabelEncoder</label><div class=\"sk-toggleable__content\"><pre>LabelEncoder()</pre></div></div></div></div></div>"
      ],
      "text/plain": [
       "LabelEncoder()"
      ]
     },
     "execution_count": 9,
     "metadata": {},
     "output_type": "execute_result"
    }
   ],
   "source": [
    "encoder = LabelEncoder()\n",
    "encoder.classes_ = np.load('classes.npy',allow_pickle=True)\n"
   ]
  },
  {
   "cell_type": "code",
   "execution_count": 3,
   "id": "545e8197",
   "metadata": {},
   "outputs": [],
   "source": [
    "best_xgboost_model = xgb.XGBRegressor()\n",
    "best_xgboost_model.load_model(\"best_model.json\")\n"
   ]
  },
  {
   "cell_type": "code",
   "execution_count": 4,
   "id": "7121bec3",
   "metadata": {},
   "outputs": [],
   "source": [
    "if st.checkbox('Show dataframe'):\n",
    "    data\n"
   ]
  },
  {
   "cell_type": "code",
   "execution_count": 11,
   "id": "820023fd",
   "metadata": {},
   "outputs": [],
   "source": [
    "st.subheader(\"Please select relevant features of your illnesses!\")\n",
    "left_column, right_column = st.columns(2)\n",
    "with left_column:\n",
    "    inp_species = st.radio(\n",
    "        'Name of the illnesses:',\n",
    "        np.unique(data['ChanceToHaveAlzheimerDisease ']))"
   ]
  },
  {
   "cell_type": "code",
   "execution_count": 7,
   "id": "23b4cee3",
   "metadata": {},
   "outputs": [
    {
     "ename": "StreamlitAPIException",
     "evalue": "Slider value arguments must be of matching types.\n`min_value` has float type.\n`max_value` has bool type.\n`step` has float type.",
     "output_type": "error",
     "traceback": [
      "\u001b[1;31m---------------------------------------------------------------------------\u001b[0m",
      "\u001b[1;31mStreamlitAPIException\u001b[0m                     Traceback (most recent call last)",
      "\u001b[1;32mc:\\Users\\mohamed bakeer\\Desktop\\machine-project\\main.ipynb Cell 6\u001b[0m in \u001b[0;36m4\n\u001b[0;32m      <a href='vscode-notebook-cell:/c%3A/Users/mohamed%20bakeer/Desktop/machine-project/main.ipynb#W5sZmlsZQ%3D%3D?line=1'>2</a>\u001b[0m input_Length2 \u001b[39m=\u001b[39m st\u001b[39m.\u001b[39mslider(\u001b[39m'\u001b[39m\u001b[39mDiagonal length(cm)\u001b[39m\u001b[39m'\u001b[39m, \u001b[39m0.0\u001b[39m, \u001b[39mmax\u001b[39m(data[\u001b[39m\"\u001b[39m\u001b[39mChanceToHaveArthritis \u001b[39m\u001b[39m\"\u001b[39m]), \u001b[39m1.0\u001b[39m)\n\u001b[0;32m      <a href='vscode-notebook-cell:/c%3A/Users/mohamed%20bakeer/Desktop/machine-project/main.ipynb#W5sZmlsZQ%3D%3D?line=2'>3</a>\u001b[0m input_Length3 \u001b[39m=\u001b[39m st\u001b[39m.\u001b[39mslider(\u001b[39m'\u001b[39m\u001b[39mCross length(cm)\u001b[39m\u001b[39m'\u001b[39m, \u001b[39m0.0\u001b[39m, \u001b[39mmax\u001b[39m(data[\u001b[39m\"\u001b[39m\u001b[39mChanceToHaveCancer \u001b[39m\u001b[39m\"\u001b[39m]), \u001b[39m1.0\u001b[39m)\n\u001b[1;32m----> <a href='vscode-notebook-cell:/c%3A/Users/mohamed%20bakeer/Desktop/machine-project/main.ipynb#W5sZmlsZQ%3D%3D?line=3'>4</a>\u001b[0m input_Height \u001b[39m=\u001b[39m st\u001b[39m.\u001b[39;49mslider(\u001b[39m'\u001b[39;49m\u001b[39mHeight(cm)\u001b[39;49m\u001b[39m'\u001b[39;49m, \u001b[39m0.0\u001b[39;49m, \u001b[39mmax\u001b[39;49m(data[\u001b[39m\"\u001b[39;49m\u001b[39mhasAlzheimerDisease \u001b[39;49m\u001b[39m\"\u001b[39;49m]), \u001b[39m1.0\u001b[39;49m)\n\u001b[0;32m      <a href='vscode-notebook-cell:/c%3A/Users/mohamed%20bakeer/Desktop/machine-project/main.ipynb#W5sZmlsZQ%3D%3D?line=4'>5</a>\u001b[0m input_Width \u001b[39m=\u001b[39m st\u001b[39m.\u001b[39mslider(\u001b[39m'\u001b[39m\u001b[39mDiagonal width(cm)\u001b[39m\u001b[39m'\u001b[39m, \u001b[39m0.0\u001b[39m, \u001b[39mmax\u001b[39m(data[\u001b[39m\"\u001b[39m\u001b[39mhasArthritis \u001b[39m\u001b[39m\"\u001b[39m]), \u001b[39m1.0\u001b[39m)\n",
      "File \u001b[1;32m~\\AppData\\Roaming\\Python\\Python310\\site-packages\\streamlit\\runtime\\metrics_util.py:311\u001b[0m, in \u001b[0;36mgather_metrics.<locals>.wrapped_func\u001b[1;34m(*args, **kwargs)\u001b[0m\n\u001b[0;32m    309\u001b[0m         _LOGGER\u001b[39m.\u001b[39mdebug(\u001b[39m\"\u001b[39m\u001b[39mFailed to collect command telemetry\u001b[39m\u001b[39m\"\u001b[39m, exc_info\u001b[39m=\u001b[39mex)\n\u001b[0;32m    310\u001b[0m \u001b[39mtry\u001b[39;00m:\n\u001b[1;32m--> 311\u001b[0m     result \u001b[39m=\u001b[39m non_optional_func(\u001b[39m*\u001b[39margs, \u001b[39m*\u001b[39m\u001b[39m*\u001b[39mkwargs)\n\u001b[0;32m    312\u001b[0m \u001b[39mfinally\u001b[39;00m:\n\u001b[0;32m    313\u001b[0m     \u001b[39m# Activate tracking again if command executes without any exceptions\u001b[39;00m\n\u001b[0;32m    314\u001b[0m     \u001b[39mif\u001b[39;00m ctx:\n",
      "File \u001b[1;32m~\\AppData\\Roaming\\Python\\Python310\\site-packages\\streamlit\\elements\\slider.py:302\u001b[0m, in \u001b[0;36mSliderMixin.slider\u001b[1;34m(self, label, min_value, max_value, value, step, format, key, help, on_change, args, kwargs, disabled, label_visibility)\u001b[0m\n\u001b[0;32m    194\u001b[0m \u001b[39m\"\"\"Display a slider widget.\u001b[39;00m\n\u001b[0;32m    195\u001b[0m \n\u001b[0;32m    196\u001b[0m \u001b[39mThis supports int, float, date, time, and datetime types.\u001b[39;00m\n\u001b[1;32m   (...)\u001b[0m\n\u001b[0;32m    299\u001b[0m \n\u001b[0;32m    300\u001b[0m \u001b[39m\"\"\"\u001b[39;00m\n\u001b[0;32m    301\u001b[0m ctx \u001b[39m=\u001b[39m get_script_run_ctx()\n\u001b[1;32m--> 302\u001b[0m \u001b[39mreturn\u001b[39;00m \u001b[39mself\u001b[39;49m\u001b[39m.\u001b[39;49m_slider(\n\u001b[0;32m    303\u001b[0m     label\u001b[39m=\u001b[39;49mlabel,\n\u001b[0;32m    304\u001b[0m     min_value\u001b[39m=\u001b[39;49mmin_value,\n\u001b[0;32m    305\u001b[0m     max_value\u001b[39m=\u001b[39;49mmax_value,\n\u001b[0;32m    306\u001b[0m     value\u001b[39m=\u001b[39;49mvalue,\n\u001b[0;32m    307\u001b[0m     step\u001b[39m=\u001b[39;49mstep,\n\u001b[0;32m    308\u001b[0m     \u001b[39mformat\u001b[39;49m\u001b[39m=\u001b[39;49m\u001b[39mformat\u001b[39;49m,\n\u001b[0;32m    309\u001b[0m     key\u001b[39m=\u001b[39;49mkey,\n\u001b[0;32m    310\u001b[0m     help\u001b[39m=\u001b[39;49mhelp,\n\u001b[0;32m    311\u001b[0m     on_change\u001b[39m=\u001b[39;49mon_change,\n\u001b[0;32m    312\u001b[0m     args\u001b[39m=\u001b[39;49margs,\n\u001b[0;32m    313\u001b[0m     kwargs\u001b[39m=\u001b[39;49mkwargs,\n\u001b[0;32m    314\u001b[0m     disabled\u001b[39m=\u001b[39;49mdisabled,\n\u001b[0;32m    315\u001b[0m     label_visibility\u001b[39m=\u001b[39;49mlabel_visibility,\n\u001b[0;32m    316\u001b[0m     ctx\u001b[39m=\u001b[39;49mctx,\n\u001b[0;32m    317\u001b[0m )\n",
      "File \u001b[1;32m~\\AppData\\Roaming\\Python\\Python310\\site-packages\\streamlit\\elements\\slider.py:465\u001b[0m, in \u001b[0;36mSliderMixin._slider\u001b[1;34m(self, label, min_value, max_value, value, step, format, key, help, on_change, args, kwargs, disabled, label_visibility, ctx)\u001b[0m\n\u001b[0;32m    458\u001b[0m timelike_args \u001b[39m=\u001b[39m (\n\u001b[0;32m    459\u001b[0m     data_type \u001b[39min\u001b[39;00m TIMELIKE_TYPES\n\u001b[0;32m    460\u001b[0m     \u001b[39mand\u001b[39;00m \u001b[39misinstance\u001b[39m(step, timedelta)\n\u001b[0;32m    461\u001b[0m     \u001b[39mand\u001b[39;00m \u001b[39mtype\u001b[39m(min_value) \u001b[39m==\u001b[39m \u001b[39mtype\u001b[39m(max_value)\n\u001b[0;32m    462\u001b[0m )\n\u001b[0;32m    464\u001b[0m \u001b[39mif\u001b[39;00m \u001b[39mnot\u001b[39;00m int_args \u001b[39mand\u001b[39;00m \u001b[39mnot\u001b[39;00m float_args \u001b[39mand\u001b[39;00m \u001b[39mnot\u001b[39;00m timelike_args:\n\u001b[1;32m--> 465\u001b[0m     \u001b[39mraise\u001b[39;00m StreamlitAPIException(\n\u001b[0;32m    466\u001b[0m         \u001b[39m\"\u001b[39m\u001b[39mSlider value arguments must be of matching types.\u001b[39m\u001b[39m\"\u001b[39m\n\u001b[0;32m    467\u001b[0m         \u001b[39m\"\u001b[39m\u001b[39m\\n\u001b[39;00m\u001b[39m`min_value` has \u001b[39m\u001b[39m%(min_type)s\u001b[39;00m\u001b[39m type.\u001b[39m\u001b[39m\"\u001b[39m\n\u001b[0;32m    468\u001b[0m         \u001b[39m\"\u001b[39m\u001b[39m\\n\u001b[39;00m\u001b[39m`max_value` has \u001b[39m\u001b[39m%(max_type)s\u001b[39;00m\u001b[39m type.\u001b[39m\u001b[39m\"\u001b[39m\n\u001b[0;32m    469\u001b[0m         \u001b[39m\"\u001b[39m\u001b[39m\\n\u001b[39;00m\u001b[39m`step` has \u001b[39m\u001b[39m%(step)s\u001b[39;00m\u001b[39m type.\u001b[39m\u001b[39m\"\u001b[39m\n\u001b[0;32m    470\u001b[0m         \u001b[39m%\u001b[39m {\n\u001b[0;32m    471\u001b[0m             \u001b[39m\"\u001b[39m\u001b[39mmin_type\u001b[39m\u001b[39m\"\u001b[39m: \u001b[39mtype\u001b[39m(min_value)\u001b[39m.\u001b[39m\u001b[39m__name__\u001b[39m,\n\u001b[0;32m    472\u001b[0m             \u001b[39m\"\u001b[39m\u001b[39mmax_type\u001b[39m\u001b[39m\"\u001b[39m: \u001b[39mtype\u001b[39m(max_value)\u001b[39m.\u001b[39m\u001b[39m__name__\u001b[39m,\n\u001b[0;32m    473\u001b[0m             \u001b[39m\"\u001b[39m\u001b[39mstep\u001b[39m\u001b[39m\"\u001b[39m: \u001b[39mtype\u001b[39m(step)\u001b[39m.\u001b[39m\u001b[39m__name__\u001b[39m,\n\u001b[0;32m    474\u001b[0m         }\n\u001b[0;32m    475\u001b[0m     )\n\u001b[0;32m    477\u001b[0m \u001b[39m# Ensure that the value matches arguments' types.\u001b[39;00m\n\u001b[0;32m    478\u001b[0m all_ints \u001b[39m=\u001b[39m data_type \u001b[39m==\u001b[39m SliderProto\u001b[39m.\u001b[39mINT \u001b[39mand\u001b[39;00m int_args\n",
      "\u001b[1;31mStreamlitAPIException\u001b[0m: Slider value arguments must be of matching types.\n`min_value` has float type.\n`max_value` has bool type.\n`step` has float type."
     ]
    }
   ],
   "source": [
    "input_Length1 = st.slider('Vertical length(cm)', 0.0, max(data[\"ChanceToHaveAlzheimerDisease \"]), 1.0)\n",
    "input_Length2 = st.slider('Diagonal length(cm)', 0.0, max(data[\"ChanceToHaveArthritis \"]), 1.0)\n",
    "input_Length3 = st.slider('Cross length(cm)', 0.0, max(data[\"ChanceToHaveCancer \"]), 1.0)\n",
    "input_Height = st.slider('Height(cm)', 0.0, max(data[\"hasAlzheimerDisease \"]), 1.0)\n",
    "input_Width = st.slider('Diagonal width(cm)', 0.0, max(data[\"hasArthritis \"]), 1.0)"
   ]
  },
  {
   "cell_type": "code",
   "execution_count": 8,
   "id": "28a2c460",
   "metadata": {},
   "outputs": [],
   "source": [
    "if st.button('Make Prediction'):\n",
    "    input_species = encoder.transform(np.expand_dims(inp_species, -1))\n",
    "    inputs = np.expand_dims(\n",
    "        [int(input_species), input_Length1, input_Length2, input_Length3, input_Height, input_Width], 0)\n",
    "    prediction = best_xgboost_model.predict(inputs)\n",
    "    print(\"final pred\", np.squeeze(prediction, -1))\n",
    "    st.write(f\"Your fish weight is: {np.squeeze(prediction, -1)} Gram\")"
   ]
  }
 ],
 "metadata": {
  "kernelspec": {
   "display_name": "Python 3 (ipykernel)",
   "language": "python",
   "name": "python3"
  },
  "language_info": {
   "codemirror_mode": {
    "name": "ipython",
    "version": 3
   },
   "file_extension": ".py",
   "mimetype": "text/x-python",
   "name": "python",
   "nbconvert_exporter": "python",
   "pygments_lexer": "ipython3",
   "version": "3.10.5"
  }
 },
 "nbformat": 4,
 "nbformat_minor": 5
}
