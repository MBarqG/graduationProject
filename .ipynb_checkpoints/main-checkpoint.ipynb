{
 "cells": [
  {
   "cell_type": "code",
   "execution_count": 68,
   "id": "2cf4c06d",
   "metadata": {},
   "outputs": [],
   "source": [
    "import streamlit as st\n",
    "import pandas as pd\n",
    "from sklearn.preprocessing import  LabelEncoder\n",
    "import xgboost as xgb\n",
    "import numpy as np\n",
    "st.header(\"illnesses  Prediction App\")\n",
    "st.text_input(\"Enter your Name: \", key=\"name\")\n",
    "data = pd.read_csv(\"data.csv\",index_col=0)\n"
   ]
  },
  {
   "cell_type": "code",
   "execution_count": 69,
   "id": "b28320e8",
   "metadata": {},
   "outputs": [],
   "source": [
    "encoder = LabelEncoder()\n",
    "encoder.classes_ = np.load('classes.npy',allow_pickle=True)\n"
   ]
  },
  {
   "cell_type": "code",
   "execution_count": 70,
   "id": "545e8197",
   "metadata": {},
   "outputs": [],
   "source": [
    "best_xgboost_model = xgb.XGBRegressor()\n",
    "best_xgboost_model.load_model(\"best_model.json\")\n"
   ]
  },
  {
   "cell_type": "code",
   "execution_count": 71,
   "id": "01060b76",
   "metadata": {},
   "outputs": [],
   "source": [
    "def increase_text_size():\n",
    "    text.config(height=100000, width=5000)"
   ]
  },
  {
   "cell_type": "code",
   "execution_count": 84,
   "id": "e62b5d5a",
   "metadata": {},
   "outputs": [
    {
     "name": "stderr",
     "output_type": "stream",
     "text": [
      "Exception in Tkinter callback\n",
      "Traceback (most recent call last):\n",
      "  File \"C:\\Anaconda\\lib\\tkinter\\__init__.py\", line 1921, in __call__\n",
      "    return self.func(*args)\n",
      "  File \"C:\\Users\\mohamed bakeer\\AppData\\Local\\Temp\\ipykernel_9432\\2041552217.py\", line 37, in <lambda>\n",
      "    checkbox_var.trace(\"w\", lambda name, index, mode: enable_data_writing())\n",
      "  File \"C:\\Users\\mohamed bakeer\\AppData\\Local\\Temp\\ipykernel_9432\\2041552217.py\", line 34, in enable_data_writing\n",
      "    write_data(data[0])\n",
      "  File \"C:\\Users\\mohamed bakeer\\AppData\\Local\\Temp\\ipykernel_9432\\2041552217.py\", line 17, in write_data\n",
      "    with open('data.csv', 'a', newline='') as file:\n",
      "PermissionError: [Errno 13] Permission denied: 'data.csv'\n"
     ]
    }
   ],
   "source": [
    "import tkinter as tk\n",
    "\n",
    "# Create a new Tkinter window\n",
    "window = tk.Tk()\n",
    "window.geometry(\"500x500\")\n",
    "# Create a label widget to display instructions\n",
    "label = tk.Label(window, text=\"Enter your name:\")\n",
    "label.pack()\n",
    "\n",
    "# Create an entry widget for text input\n",
    "entry = tk.Entry(window)\n",
    "entry.pack()\n",
    "checkbox_var = tk.BooleanVar()\n",
    "checkbox = tk.Checkbutton(window, text=\"Show Data\", variable=checkbox_var)\n",
    "checkbox.pack()\n",
    "def write_data(data):\n",
    "    with open('data.csv', 'a', newline='') as file:\n",
    "        writer = csv.writer(file)\n",
    "        writer.writerow(data)\n",
    "\n",
    "# Define a function to read and display the contents of the CSV file in a listbox\n",
    "def read_data():\n",
    "    listbox.delete(0, tk.END) # Clear the listbox\n",
    "    with open('data.csv', 'r') as file:\n",
    "        reader = csv.reader(file)\n",
    "        for row in reader:\n",
    "            listbox.insert(tk.END, row)\n",
    "\n",
    "# Define a function to enable or disable writing data based on the checkbox state\n",
    "def enable_data_writing():\n",
    "    if checkbox_var.get():\n",
    "        read_data()\n",
    "        data = [0, 0, 0, 0, 0, 0, 0, 0, 0, 0, 0, 1]\n",
    "        write_data(data)\n",
    "\n",
    "# Bind the enable_data_writing function to the checkbox state\n",
    "checkbox_var.trace(\"w\", lambda name, index, mode: enable_data_writing())\n",
    "\n",
    "# Create a listbox to display the CSV file contents\n",
    "listbox = tk.Listbox(window,width=100, height=100)\n",
    "\n",
    "listbox.pack()\n",
    "\n",
    "\n",
    "# Create a button widget to submit the input\n",
    "button = tk.Button(window, text=\"Submit\", command=lambda: print(\"Hello, \" + entry.get() + \"!\"))\n",
    "button.pack()\n",
    "\n",
    "# Start the Tkinter event loop\n",
    "window.mainloop()\n"
   ]
  },
  {
   "cell_type": "code",
   "execution_count": null,
   "id": "1d9ccf13",
   "metadata": {},
   "outputs": [],
   "source": []
  }
 ],
 "metadata": {
  "kernelspec": {
   "display_name": "Python 3 (ipykernel)",
   "language": "python",
   "name": "python3"
  },
  "language_info": {
   "codemirror_mode": {
    "name": "ipython",
    "version": 3
   },
   "file_extension": ".py",
   "mimetype": "text/x-python",
   "name": "python",
   "nbconvert_exporter": "python",
   "pygments_lexer": "ipython3",
   "version": "3.10.9"
  }
 },
 "nbformat": 4,
 "nbformat_minor": 5
}
