{
 "cells": [
  {
   "cell_type": "code",
   "execution_count": 1,
   "id": "22754891",
   "metadata": {},
   "outputs": [],
   "source": [
    "import pandas as pd\n",
    "import seaborn as sns\n",
    "import matplotlib.pyplot as plt\n",
    "from itertools import combinations\n",
    "import numpy as np\n",
    "from hyperopt import hp\n",
    "from hyperopt import fmin, tpe, STATUS_OK, STATUS_FAIL, Trials\n",
    "from sklearn.model_selection import cross_val_score\n",
    "from sklearn.model_selection import train_test_split\n",
    "from sklearn.preprocessing import  LabelEncoder\n",
    "from sklearn.tree import DecisionTreeRegressor\n",
    "from sklearn.ensemble import RandomForestRegressor\n",
    "import xgboost as xgb\n",
    "from sklearn.metrics import mean_squared_error, mean_absolute_error, r2_score"
   ]
  },
  {
   "cell_type": "code",
   "execution_count": 2,
   "id": "e10500a6",
   "metadata": {},
   "outputs": [],
   "source": [
    "def evauation_model(pred, y_val):\n",
    "    score_MSE = round(mean_squared_error(pred, y_val),2)\n",
    "    score_MAE = round(mean_absolute_error(pred, y_val),2)\n",
    "    score_r2score = round(r2_score(pred, y_val),2)\n",
    "    return score_MSE, score_MAE, score_r2score"
   ]
  },
  {
   "cell_type": "code",
   "execution_count": 3,
   "id": "83af51bf",
   "metadata": {},
   "outputs": [],
   "source": [
    "def models_score(model_name, train_data, y_train, val_data, y_val):\n",
    "    model_list = [\"Decision_Tree\", \"Random_Forest\", \"XGboost_Regressor\"]\n",
    "    # model_1\n",
    "    if model_name == \"Decision_Tree\":\n",
    "        reg = DecisionTreeRegressor(random_state=42)\n",
    "    # model_2\n",
    "    elif model_name == \"Random_Forest\":\n",
    "        reg = RandomForestRegressor(random_state=42)\n",
    "\n",
    "    # model_3\n",
    "    elif model_name == \"XGboost_Regressor\":\n",
    "        reg = xgb.XGBRegressor(objective=\"reg:squarederror\", random_state=42, )\n",
    "    else:\n",
    "        print(\"please enter correct regressor name\")\n",
    "\n",
    "    if model_name in model_list:\n",
    "        reg.fit(train_data, y_train)\n",
    "        pred = reg.predict(val_data)\n",
    "\n",
    "        score_MSE, score_MAE, score_r2score = evauation_model(pred, y_val)\n",
    "        return round(score_MSE, 2), round(score_MAE, 2), round(score_r2score, 2)"
   ]
  },
  {
   "cell_type": "code",
   "execution_count": 20,
   "id": "ceed3332",
   "metadata": {},
   "outputs": [],
   "source": [
    "data = pd.read_csv(\"data.csv\",index_col=0)"
   ]
  },
  {
   "cell_type": "code",
   "execution_count": 18,
   "id": "975bb764",
   "metadata": {},
   "outputs": [],
   "source": [
    "data_cleaned = data.drop(columns=['hasAlzheimerDisease '])"
   ]
  },
  {
   "cell_type": "code",
   "execution_count": 19,
   "id": "58fb3db5",
   "metadata": {},
   "outputs": [],
   "source": [
    "y=data['hasAlzheimerDisease ']\n"
   ]
  },
  {
   "cell_type": "code",
   "execution_count": 7,
   "id": "170fd0d4",
   "metadata": {},
   "outputs": [],
   "source": [
    "x_train, x_test, y_train, y_test = train_test_split(data_cleaned,y, test_size=0.2, random_state=42)"
   ]
  },
  {
   "cell_type": "code",
   "execution_count": 8,
   "id": "65d9886f",
   "metadata": {},
   "outputs": [],
   "source": [
    "label_encoder = LabelEncoder()"
   ]
  },
  {
   "cell_type": "code",
   "execution_count": 9,
   "id": "9b12655f",
   "metadata": {},
   "outputs": [],
   "source": [
    "x_train['ChanceToHaveAlzheimerDisease '] = label_encoder.fit_transform(x_train['ChanceToHaveAlzheimerDisease '].values)\n",
    "x_test['ChanceToHaveAlzheimerDisease '] = label_encoder.transform(x_test['ChanceToHaveAlzheimerDisease '].values)"
   ]
  },
  {
   "cell_type": "code",
   "execution_count": 10,
   "id": "5e57ed91",
   "metadata": {},
   "outputs": [],
   "source": [
    "model_list = [\"Decision_Tree\",\"Random_Forest\",\"XGboost_Regressor\"]"
   ]
  },
  {
   "cell_type": "code",
   "execution_count": 11,
   "id": "5ded0b3e",
   "metadata": {},
   "outputs": [
    {
     "name": "stdout",
     "output_type": "stream",
     "text": [
      "Decision_Tree (0.0, 0.0, 1.0)\n",
      "Random_Forest (0.0, 0.0, 1.0)\n",
      "XGboost_Regressor (0.0, 0.0, 1.0)\n"
     ]
    }
   ],
   "source": [
    "result_scores = []\n",
    "for model in model_list:\n",
    "    score = models_score(model, x_train, y_train, x_test, y_test)\n",
    "    result_scores.append((model, score[0], score[1],score[2]))\n",
    "    print(model,score)"
   ]
  },
  {
   "cell_type": "code",
   "execution_count": 12,
   "id": "f82fab30",
   "metadata": {},
   "outputs": [],
   "source": [
    "df_result_scores = pd.DataFrame(result_scores,columns=[\"model\",\"mse\",\"mae\",\"r2score\"])\n",
    "df_result_scores\n",
    "#%%\n",
    "num_estimator = [100, 150, 200, 250]"
   ]
  },
  {
   "cell_type": "code",
   "execution_count": 13,
   "id": "674f0926",
   "metadata": {},
   "outputs": [],
   "source": [
    "space = {'max_depth': hp.quniform(\"max_depth\", 3, 18, 1),\n",
    "         'gamma': hp.uniform('gamma', 1, 9),\n",
    "         'reg_alpha': hp.quniform('reg_alpha', 30, 180, 1),\n",
    "         'reg_lambda': hp.uniform('reg_lambda', 0, 1),\n",
    "         'colsample_bytree': hp.uniform('colsample_bytree', 0.5, 1),\n",
    "         'min_child_weight': hp.quniform('min_child_weight', 0, 10, 1),\n",
    "         'n_estimators': hp.choice(\"n_estimators\", num_estimator),\n",
    "         }"
   ]
  },
  {
   "cell_type": "code",
   "execution_count": 14,
   "id": "007ca4fa",
   "metadata": {},
   "outputs": [],
   "source": [
    "def hyperparameter_tuning(space):\n",
    "    model = xgb.XGBRegressor(n_estimators=space['n_estimators'], max_depth=int(space['max_depth']),\n",
    "                             gamma=space['gamma'],\n",
    "                             reg_alpha=int(space['reg_alpha']), min_child_weight=space['min_child_weight'],\n",
    "                             colsample_bytree=space['colsample_bytree'], objective=\"reg:squarederror\")\n",
    "\n",
    "    score_cv = cross_val_score(model, x_train, y_train, cv=5, scoring=\"neg_mean_absolute_error\").mean()\n",
    "    return {'loss': -score_cv, 'status': STATUS_OK, 'model': model}"
   ]
  },
  {
   "cell_type": "code",
   "execution_count": 16,
   "id": "8b40af75",
   "metadata": {},
   "outputs": [
    {
     "name": "stdout",
     "output_type": "stream",
     "text": [
      "100%|██████████| 10/10 [01:54<00:00, 11.48s/trial, best loss: 0.010425073653459549]\n"
     ]
    }
   ],
   "source": [
    "trials = Trials()\n",
    "best = fmin(fn=hyperparameter_tuning,\n",
    "            space=space,\n",
    "            algo=tpe.suggest,\n",
    "            max_evals=10,\n",
    "            trials=trials)"
   ]
  },
  {
   "cell_type": "code",
   "execution_count": 17,
   "id": "a4c8bc51",
   "metadata": {},
   "outputs": [],
   "source": [
    "best['max_depth'] = int(best['max_depth']) # convert to int\n",
    "best[\"n_estimators\"] = num_estimator[best[\"n_estimators\"]] # assing n_estimator because it returs the index\n",
    "best_xgboost_model = xgb.XGBRegressor(**best)\n",
    "best_xgboost_model.fit(x_train,y_train)\n",
    "pred = best_xgboost_model.predict(x_test)\n",
    "score_MSE, score_MAE, score_r2score = evauation_model(pred,y_test)\n",
    "to_append = [\"XGboost_hyper_tuned\",score_MSE, score_MAE, score_r2score]\n",
    "df_result_scores.loc[len(df_result_scores)] = to_append\n",
    "\n",
    "best_xgboost_model.save_model(\"best_model.json\")"
   ]
  }
 ],
 "metadata": {
  "kernelspec": {
   "display_name": "Python 3 (ipykernel)",
   "language": "python",
   "name": "python3"
  },
  "language_info": {
   "codemirror_mode": {
    "name": "ipython",
    "version": 3
   },
   "file_extension": ".py",
   "mimetype": "text/x-python",
   "name": "python",
   "nbconvert_exporter": "python",
   "pygments_lexer": "ipython3",
   "version": "3.10.9"
  }
 },
 "nbformat": 4,
 "nbformat_minor": 5
}
